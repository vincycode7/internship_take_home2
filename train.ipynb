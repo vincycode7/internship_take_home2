{
  "nbformat": 4,
  "nbformat_minor": 0,
  "metadata": {
    "colab": {
      "name": "breast cancer.ipynb",
      "version": "0.3.2",
      "provenance": [],
      "collapsed_sections": []
    },
    "kernelspec": {
      "name": "python3",
      "display_name": "Python 3"
    },
    "accelerator": "GPU"
  },
  "cells": [
    {
      "cell_type": "code",
      "metadata": {
        "id": "zYvllXqdsY6p",
        "colab_type": "code",
        "outputId": "cc4435e2-2e5b-4ddc-a24e-90b7fef99e66",
        "colab": {
          "base_uri": "https://localhost:8080/",
          "height": 122
        }
      },
      "source": [
        "from google.colab import drive\n",
        "drive.mount('/content/drive')\n",
        "import os\n",
        "import shutil\n",
        "os.chdir('/content/drive/My Drive/machine learning folder/breast cancer')"
      ],
      "execution_count": 0,
      "outputs": [
        {
          "output_type": "stream",
          "text": [
            "Go to this URL in a browser: https://accounts.google.com/o/oauth2/auth?client_id=947318989803-6bn6qk8qdgf4n4g3pfee6491hc0brc4i.apps.googleusercontent.com&redirect_uri=urn%3Aietf%3Awg%3Aoauth%3A2.0%3Aoob&scope=email%20https%3A%2F%2Fwww.googleapis.com%2Fauth%2Fdocs.test%20https%3A%2F%2Fwww.googleapis.com%2Fauth%2Fdrive%20https%3A%2F%2Fwww.googleapis.com%2Fauth%2Fdrive.photos.readonly%20https%3A%2F%2Fwww.googleapis.com%2Fauth%2Fpeopleapi.readonly&response_type=code\n",
            "\n",
            "Enter your authorization code:\n",
            "··········\n",
            "Mounted at /content/drive\n"
          ],
          "name": "stdout"
        }
      ]
    },
    {
      "cell_type": "markdown",
      "metadata": {
        "id": "5HQXF5aGo9jl",
        "colab_type": "text"
      },
      "source": [
        "# Used Libraries"
      ]
    },
    {
      "cell_type": "code",
      "metadata": {
        "id": "us_kPF_QkmCX",
        "colab_type": "code",
        "colab": {}
      },
      "source": [
        "import pandas as pd\n",
        "import numpy as np\n",
        "import matplotlib.pyplot as plt\n",
        "import seaborn as sns\n",
        "from sklearn.model_selection import StratifiedShuffleSplit\n",
        "from sklearn.pipeline import Pipeline\n",
        "from sklearn.preprocessing import StandardScaler\n",
        "from sklearn.impute import SimpleImputer\n",
        "import torch as tch\n",
        "from torchvision import models#, datasets, transforms\n",
        "from torch import nn, optim\n",
        "from collections import OrderedDict\n",
        "from sklearn.metrics import accuracy_score,confusion_matrix,recall_score,precision_score,f1_score,roc_curve,roc_auc_score\n",
        "%matplotlib inline"
      ],
      "execution_count": 0,
      "outputs": []
    },
    {
      "cell_type": "code",
      "metadata": {
        "id": "Q92g7qMPqAB3",
        "colab_type": "code",
        "colab": {}
      },
      "source": [
        "np.random.seed(42)"
      ],
      "execution_count": 0,
      "outputs": []
    },
    {
      "cell_type": "markdown",
      "metadata": {
        "id": "_68TTvCbkYWA",
        "colab_type": "text"
      },
      "source": [
        "# Import DataSets"
      ]
    },
    {
      "cell_type": "code",
      "metadata": {
        "id": "d736Ibw8kVBZ",
        "colab_type": "code",
        "colab": {}
      },
      "source": [
        "X_train = pd.read_csv('X_train').drop(['Unnamed: 0'],axis=1)\n",
        "y_train = pd.read_csv('y_train').drop(['Unnamed: 0'],axis=1).values\n",
        "X_test = pd.read_csv('X_test').drop(['Unnamed: 0'],axis=1)\n",
        "y_test = pd.read_csv('y_test').drop(['Unnamed: 0'],axis=1).values\n",
        "X_val = pd.read_csv('X_val').drop(['Unnamed: 0'],axis=1)\n",
        "y_val = pd.read_csv('y_val').drop(['Unnamed: 0'],axis=1).values"
      ],
      "execution_count": 0,
      "outputs": []
    },
    {
      "cell_type": "markdown",
      "metadata": {
        "id": "ztnqNRZ7CaDa",
        "colab_type": "text"
      },
      "source": [
        "# Train model with Pytorch"
      ]
    },
    {
      "cell_type": "code",
      "metadata": {
        "id": "KhsBIn-0u-dO",
        "colab_type": "code",
        "colab": {}
      },
      "source": [
        ""
      ],
      "execution_count": 0,
      "outputs": []
    },
    {
      "cell_type": "markdown",
      "metadata": {
        "id": "qc6NQMBuCf4v",
        "colab_type": "text"
      },
      "source": [
        "### Convert data to tensor"
      ]
    },
    {
      "cell_type": "code",
      "metadata": {
        "id": "1AFPG3UO_xuQ",
        "colab_type": "code",
        "colab": {}
      },
      "source": [
        "train_target = tch.tensor(y_train)\n",
        "train =        tch.tensor(X_train.values.astype(np.float32))\n",
        "\n",
        "test_target =  tch.tensor(y_test)\n",
        "test =         tch.tensor(X_test.values.astype(np.float32))\n",
        "\n",
        "val_target =  tch.tensor(y_val)\n",
        "val =         tch.tensor(X_val.values.astype(np.float32))"
      ],
      "execution_count": 0,
      "outputs": []
    },
    {
      "cell_type": "code",
      "metadata": {
        "id": "RDjppaBntkMT",
        "colab_type": "code",
        "outputId": "9d3d899c-b125-4df6-e442-97a06291a6ea",
        "colab": {
          "base_uri": "https://localhost:8080/",
          "height": 34
        }
      },
      "source": [
        "train_target.shape"
      ],
      "execution_count": 0,
      "outputs": [
        {
          "output_type": "execute_result",
          "data": {
            "text/plain": [
              "torch.Size([3492, 1])"
            ]
          },
          "metadata": {
            "tags": []
          },
          "execution_count": 7
        }
      ]
    },
    {
      "cell_type": "markdown",
      "metadata": {
        "id": "1NdYWfB3FTkN",
        "colab_type": "text"
      },
      "source": [
        "### Define the loss and optimizer "
      ]
    },
    {
      "cell_type": "code",
      "metadata": {
        "id": "ig8xFga6FSQy",
        "colab_type": "code",
        "colab": {}
      },
      "source": [
        "criterion = nn.CrossEntropyLoss()\n",
        "optimizer1 = optim.SGD(_1_hidlay.parameters(), lr=0.01)"
      ],
      "execution_count": 0,
      "outputs": []
    },
    {
      "cell_type": "code",
      "metadata": {
        "id": "TuvGfVoRFEzz",
        "colab_type": "code",
        "colab": {}
      },
      "source": [
        "batch_size = 30"
      ],
      "execution_count": 0,
      "outputs": []
    },
    {
      "cell_type": "markdown",
      "metadata": {
        "id": "0A_8YXr9F4pC",
        "colab_type": "text"
      },
      "source": [
        "### Create batches for dataset"
      ]
    },
    {
      "cell_type": "code",
      "metadata": {
        "id": "NsJF7Rn9GX7c",
        "colab_type": "code",
        "colab": {}
      },
      "source": [
        "train_tensor = tch.utils.data.TensorDataset(train, train_target) \n",
        "train_loader = tch.utils.data.DataLoader(dataset = train_tensor, batch_size = batch_size, shuffle = True)\n",
        "       \n",
        "test_tensor =  tch.utils.data.TensorDataset(test, test_target) \n",
        "test_loader =  tch.utils.data.DataLoader(dataset = test_tensor, batch_size = batch_size, shuffle = True)"
      ],
      "execution_count": 0,
      "outputs": []
    },
    {
      "cell_type": "markdown",
      "metadata": {
        "id": "C2DvXe99822m",
        "colab_type": "text"
      },
      "source": [
        "### Model Class"
      ]
    },
    {
      "cell_type": "code",
      "metadata": {
        "id": "pyuJAcM51172",
        "colab_type": "code",
        "outputId": "3857c70f-c209-45b4-edb8-65298aadfd2c",
        "colab": {
          "base_uri": "https://localhost:8080/",
          "height": 34
        }
      },
      "source": [
        "CUDA_LAUNCH_BLOCKING=1\n",
        "tch.cuda.is_available()"
      ],
      "execution_count": 0,
      "outputs": [
        {
          "output_type": "execute_result",
          "data": {
            "text/plain": [
              "True"
            ]
          },
          "metadata": {
            "tags": []
          },
          "execution_count": 59
        }
      ]
    },
    {
      "cell_type": "code",
      "metadata": {
        "id": "AGK5yYaKKofN",
        "colab_type": "code",
        "colab": {}
      },
      "source": [
        "class train_model:\n",
        "  \n",
        "  def __init__(self,model = None,criterion=None,optimizer=None,epochs=10, batch_size = 30,lr=0.01):\n",
        "    \n",
        "    self.model = model\n",
        "    self.criterion = criterion\n",
        "    self.optimizer = optimizer\n",
        "    self.batch_size = batch_size\n",
        "    self.epochs= epochs\n",
        "    self.weights = None\n",
        "    self.y_scores_train = []\n",
        "    self.y_scores_test = []\n",
        "   # self.valid_loader = te\n",
        "   # self.train_loader = testset\n",
        "    #self.batch = batch\n",
        "    #self.epochs = epochs\n",
        "    self.train_loss = []\n",
        "    self.test_loss = []\n",
        "    self.train_acc = []\n",
        "    self.test_acc = []\n",
        "    self.train_rec = []\n",
        "    self.test_rec = []\n",
        "    self.train_f1_scr = []\n",
        "    self.test_f1_scr = []\n",
        "    self.train_pre = []\n",
        "    self.test_pre = []\n",
        "    self.t_epch = 0\n",
        "    #self.save_on_train = save_on_train\n",
        "    \n",
        "  def train(self,train_loader=None, valid_loader=None):\n",
        "    \n",
        "    criterion = self.criterion\n",
        "    optimizer = self.optimizer\n",
        "    epochs = self.epochs\n",
        "    batch_size= self.batch_size\n",
        "    model = self.model\n",
        "    #CUDA_LAUNCH_BLOCKING=1\n",
        "    valid_rec_min = 0.0\n",
        "    train_on_gpu = False #tch.cuda.is_available()\n",
        "    new_state = model.state_dict()\n",
        "    self.t_epch += epochs\n",
        "    for epoch in range(epochs):\n",
        "      # keep track of training and validation loss and scores\n",
        "        train_loss    = 0.0\n",
        "        test_loss    = 0.0\n",
        "        train_acc     = 0.0\n",
        "        train_pre     = 0.0\n",
        "        train_rec     = 0.0\n",
        "        train_f1_scr  = 0.0\n",
        "        test_acc      = 0.0\n",
        "        test_pre      = 0.0\n",
        "        test_rec      = 0.0\n",
        "        test_f1_scr   = 0.0\n",
        "      \n",
        "      ###################\n",
        "      # train the model #\n",
        "      ###################\n",
        "        model.cpu()\n",
        "        \n",
        "        \n",
        "        for data, target in train_loader:\n",
        "       \n",
        "          # move tensors to GPU if CUDA is available\n",
        "\n",
        "            if train_on_gpu:\n",
        "                \n",
        "                #model.cuda()\n",
        "                model.train()\n",
        "                data1, target = data.cuda(), target.cuda()\n",
        "          \n",
        "            \n",
        "            else:\n",
        "                model.cpu()\n",
        "                model.train()\n",
        "                data, target = data.cpu(), target.cpu()\n",
        "     \n",
        "          # clear the gradients of all optimized variables\n",
        "            optimizer.zero_grad()\n",
        "     \n",
        "          # forward pass: compute predicted outputs by passing inputs to the model\n",
        "            output = model(data)\n",
        "           # print(f'output = {output}, target{target.squeeze()}')\n",
        "          # calculate the batch loss\n",
        "            loss = criterion(output, target.squeeze())                   \n",
        "      \n",
        "          # backward pass: compute gradient of the loss with respect to model parameters\n",
        "            loss.backward()\n",
        "      \n",
        "          # perform a single optimization step (parameter update)\n",
        "            optimizer.step()\n",
        "       \n",
        "          # update training loss\n",
        "            train_loss     +=  loss.item()*data.size(0)\n",
        "            train_acc      +=  accuracy_score(target.cpu(), output.cpu().topk(1)[1])\n",
        "            train_pre      +=  precision_score(target.cpu(), output.cpu().topk(1)[1])\n",
        "            train_rec      +=  recall_score(target.cpu(), output.cpu().topk(1)[1])\n",
        "            train_f1_scr   +=  f1_score(target.cpu(), output.cpu().topk(1)[1])\n",
        "  \n",
        "        \n",
        "      ######################    \n",
        "      # validate the model #\n",
        "      ######################\n",
        "        model.eval()\n",
        "     \n",
        "        for data, target in valid_loader:\n",
        "      \n",
        "          # move tensors to GPU if CUDA is available\n",
        "            if train_on_gpu:\n",
        "                data, target = data.cuda(), target.cuda()\n",
        "       \n",
        "          # forward pass: compute predicted outputs by passing inputs to the model\n",
        "            output = model(data)\n",
        "          \n",
        "          # calculate the batch loss\n",
        "            loss = criterion(output, target.squeeze(1))\n",
        "                    \n",
        "          # update average validation loss \n",
        "            test_loss     += loss.item()*data.size(0)\n",
        "            test_acc       += accuracy_score(target.cpu(), output.cpu().topk(1)[1])\n",
        "            test_pre       += precision_score(target.cpu(), output.cpu().topk(1)[1])\n",
        "            test_rec       +=  recall_score(target.cpu(), output.cpu().topk(1)[1])\n",
        "            test_f1_scr    +=  f1_score(target.cpu(), output.cpu().topk(1)[1])\n",
        "            \n",
        "                \n",
        "      # calculate average losses and scores\n",
        "        train_loss = train_loss/round(len(train_loader.dataset)/batch_size)\n",
        "        test_loss = test_loss/round(len(valid_loader.dataset)/batch_size)\n",
        "      \n",
        "        train_acc       =   1 if  train_acc/round(len(train_loader.dataset)/batch_size) > 1 else train_acc/round(len(train_loader.dataset)/batch_size)\n",
        "\n",
        "        train_pre       =   1 if train_pre/round(len(train_loader.dataset)/batch_size) > 1 else train_pre/round(len(train_loader.dataset)/batch_size)\n",
        "\n",
        "        train_rec       =   1 if train_rec/round(len(train_loader.dataset)/batch_size) > 1 else train_rec/round(len(train_loader.dataset)/batch_size)\n",
        "                                     \n",
        "        train_f1_scr    =   1 if train_f1_scr/round(len(train_loader.dataset)/batch_size) > 1 else train_f1_scr/round(len(train_loader.dataset)/batch_size)\n",
        "\n",
        "        test_acc        =   1 if test_acc/round(len(valid_loader.dataset)/batch_size) > 1 else test_acc/round(len(valid_loader.dataset)/batch_size)\n",
        "\n",
        "        test_pre        =   1 if test_pre/round(len(valid_loader.dataset)/batch_size) > 1 else test_pre/round(len(valid_loader.dataset)/batch_size)\n",
        "  \n",
        "        test_rec        =   1 if test_rec/round(len(valid_loader.dataset)/batch_size,5) > 1 else test_rec/round(len(valid_loader.dataset)/batch_size,5)\n",
        "\n",
        "        test_f1_scr    =   1 if test_f1_scr/round(len(valid_loader.dataset)/batch_size,5) > 1 else test_f1_scr/round(len(valid_loader.dataset)/batch_size,5) \n",
        "\n",
        "      \n",
        "\n",
        "            \n",
        "      #append train scores\n",
        "        self.train_loss.append(train_loss)\n",
        "        self.train_acc.append(train_acc)\n",
        "        self.train_rec.append(train_rec)\n",
        "        self.train_f1_scr.append(train_f1_scr)\n",
        "        self.train_pre.append(train_pre)\n",
        "        \n",
        "      #append test scores\n",
        "        self.test_loss.append(test_loss)\n",
        "        self.test_acc.append(test_acc)\n",
        "        self.test_rec.append(test_rec)\n",
        "        self.test_f1_scr.append(test_f1_scr)\n",
        "        self.test_pre.append(test_pre)\n",
        "        \n",
        "      # print training/validation statistics \n",
        "        print('Epoch: {} \\tTraining Loss: {:.6f} \\tValidation Loss: {:.6f} '.format(epoch, train_loss, test_loss))\n",
        "      \n",
        "        print('train Accuracy score : {:.6f} \\ttrain Precision Score: {:.6f} \\ttrain Recall Score: {:.6f}\\ttrain f1 Score: {:.6f}'.format(train_acc, train_pre, train_rec, train_f1_scr))\n",
        "      \n",
        "        print('test Accuracy score : {:.6f} \\ttest Precision Score: {:.6f} \\ttest Recall Score: {:.6f}\\ttest f1 Score: {:.6f}'.format(test_acc, test_pre, test_rec, test_f1_scr))\n",
        "    \n",
        "      # save model if validation loss has decreased\n",
        "        if test_rec > valid_rec_min:\n",
        "            print('test recall increased ({:.6f} --> {:.6f}).  Saving model ...\\n\\n'.format(valid_rec_min,test_rec))\n",
        "            self.model = model \n",
        "            self.weights = model.state_dict()\n",
        "            valid_rec_min = test_rec\n",
        "            \n",
        "  def predict(self,X = None):\n",
        "    model = self.model\n",
        "    #model.load_state_dict(self.weights)\n",
        "    #model.eval()\n",
        "    model.cpu().eval()\n",
        "    output = model(X).cpu().topk(1)[1]\n",
        "    out_scr = model(val).cpu()[:,1].detach().numpy()\n",
        "    \n",
        "    return output\n",
        "  \n",
        "  \n",
        "  def score(self,X = None):\n",
        "    model = self.model\n",
        "    #model.load_state_dict(self.weights)\n",
        "    #model.eval()\n",
        "    model.cpu().eval()\n",
        "    output = model(X).cpu().topk(1)[1]\n",
        "    out_scr = model(X).cpu()[:,1].detach().numpy()\n",
        "    \n",
        "    return out_scr\n",
        "    "
      ],
      "execution_count": 0,
      "outputs": []
    },
    {
      "cell_type": "markdown",
      "metadata": {
        "id": "aQHzyOvhA3bu",
        "colab_type": "text"
      },
      "source": [
        "### Plot functions"
      ]
    },
    {
      "cell_type": "code",
      "metadata": {
        "id": "RnssL8eVHRP7",
        "colab_type": "code",
        "colab": {}
      },
      "source": [
        "def plot1(precision, recalls, threshold,title='plot',filename=None):\n",
        "  plt.figure(figsize(10,10))\n",
        "  plt.plot(thresholds, precisions[:-1], \"b--\", label=\"Precison\")\n",
        "  plt.plot(thresholds, recalls[:-1], \"g-\", label=\"Recall\")\n",
        "  plt.xlabel(\"Threshold\")\n",
        "  plt.title(title)\n",
        "  plt.legend(loc=\"center left\")\n",
        "  plt.ylim([0,1])\n",
        "  plt.figure(figsize=(40,10))\n",
        "  plt.savefig(img_fold+filename)\n",
        "  \n",
        "  \n",
        "  \n",
        "def plot2(precisions, recalls,title='plot',xlab='recall', ylab='precison',filename=None):\n",
        "    plt.figure(figsize=(10,10))\n",
        "    cuv = np.linspace(0,1,500)\n",
        "    sns.lineplot(recalls, precisions)\n",
        "    sns.lineplot(cuv,cuv)\n",
        "    plt.xlabel(xlab, fontsize=16)\n",
        "    plt.ylabel(ylab, fontsize=16)\n",
        "    plt.title(title)\n",
        "    plt.axis([0, 1, 0, 1])\n",
        "    plt.savefig(img_fold+filename)\n",
        "    \n",
        "\n",
        "def plot3(hidd1=None,hidd2=None,hidd3=None,title='plot',filename=None):\n",
        "  plt.plot(hidd1,label='hidden1')\n",
        "  plt.plot(hidd2,label='hidden2')\n",
        "  plt.plot(hidd3,label='hidden3')\n",
        "  plt.title(title)\n",
        "  plt.legend()\n",
        "  plt.savefig(img_fold+filename)\n",
        "  \n",
        "def plot4(one=None, two=None, rang = None, lab1=None, lab2=None,ylab=None, xlab=None, title1=None,filename=None):\n",
        "  plt.figure(figsize=(10,10))\n",
        "  sns.lineplot(rang,one,legend='full')\n",
        "  sns.lineplot(rang,two,legend='full')\n",
        "  plt.xlabel(ylab)\n",
        "  plt.ylabel(xlab)\n",
        "  plt.legend((lab2,lab1))\n",
        "  plt.title(title1)\n",
        "  plt.savefig(img_fold+filename)\n",
        "  \n",
        "def plot5(one=None, two=None, rang = None, lab1=None, lab2=None, title1=None,filename=None):  \n",
        "  #plt.figure(figsize=(8,8))\n",
        "  plt.subplot(1,2,2)\n",
        "  plt.plot(rang, one, label=lab1)\n",
        "  plt.plot(rang, two, label=lab2)\n",
        "  plt.legend(loc='upper right')\n",
        "  plt.title(title1)\n",
        "  plt.savefig(img_fold+filename)\n",
        "  \n",
        "def plot(precisions, recalls,title='plot',xlab='recall', ylab='precison',filename=None):\n",
        "    plt.figure(figsize=(10,10))\n",
        "    cuv = np.linspace(0,1,500)\n",
        "    sns.lineplot(recalls[0], precisions[0])\n",
        "    sns.lineplot(recalls[1], precisions[1])\n",
        "    sns.lineplot(recalls[2], precisions[2])\n",
        "    sns.lineplot(cuv,cuv)\n",
        "    plt.xlabel(xlab, fontsize=16)\n",
        "    plt.ylabel(ylab, fontsize=16)\n",
        "    plt.title(title)\n",
        "    plt.axis([0, 1, 0, 1])\n",
        "    plt.savefig(img_fold+filename)"
      ],
      "execution_count": 0,
      "outputs": []
    },
    {
      "cell_type": "code",
      "metadata": {
        "id": "lbXa_kH-A2RD",
        "colab_type": "code",
        "colab": {}
      },
      "source": [
        "img_fold = '/content/drive/My Drive/machine learning folder/breast cancer/images/'"
      ],
      "execution_count": 0,
      "outputs": []
    },
    {
      "cell_type": "markdown",
      "metadata": {
        "id": "Ru-uA_U687BU",
        "colab_type": "text"
      },
      "source": [
        "### Train model one"
      ]
    },
    {
      "cell_type": "markdown",
      "metadata": {
        "id": "CZpHJbCRFIa8",
        "colab_type": "text"
      },
      "source": [
        "##### Create model architecture"
      ]
    },
    {
      "cell_type": "code",
      "metadata": {
        "id": "HEziXy9mCjWt",
        "colab_type": "code",
        "colab": {}
      },
      "source": [
        "_1_hidlay = nn.Sequential(OrderedDict([ \n",
        "                                    (\"input\",       nn.Linear(23, 10)),\n",
        "                                    (\"activ\",       nn.ReLU()),\n",
        "                                    (\"Drop1\",       nn.Dropout(0.2)),\n",
        "                                    (\"hidden1\",     nn.Linear(10, 2)),\n",
        "                                    (\"sig_out\",     nn.Sigmoid())\n",
        "                                ]))"
      ],
      "execution_count": 0,
      "outputs": []
    },
    {
      "cell_type": "code",
      "metadata": {
        "id": "nnFCJmB8YYaA",
        "colab_type": "code",
        "outputId": "03bdc92b-2bf4-480d-9917-3f401198e72e",
        "colab": {
          "base_uri": "https://localhost:8080/",
          "height": 751
        }
      },
      "source": [
        "_1_hidtrain = train_model(model = _1_hidlay,criterion=criterion,optimizer=optimizer1,epochs=10)\n",
        "_1_hidtrain.train(train_loader=train_loader,valid_loader=test_loader)"
      ],
      "execution_count": 298,
      "outputs": [
        {
          "output_type": "stream",
          "text": [
            "Epoch: 0 \tTraining Loss: 19.637332 \tValidation Loss: 21.277228 \n",
            "train Accuracy score : 0.798132 \ttrain Precision Score: 0.927868 \ttrain Recall Score: 0.855011\ttrain f1 Score: 0.888239\n",
            "test Accuracy score : 0.760544 \ttest Precision Score: 0.928337 \ttest Recall Score: 0.809982\ttest f1 Score: 0.867555\n",
            "test recall increased (0.000000 --> 0.809982).  Saving model ...\n",
            "\n",
            "\n",
            "Epoch: 1 \tTraining Loss: 19.701850 \tValidation Loss: 21.277227 \n",
            "train Accuracy score : 0.798276 \ttrain Precision Score: 0.929115 \ttrain Recall Score: 0.854700\ttrain f1 Score: 0.888212\n",
            "test Accuracy score : 0.759184 \ttest Precision Score: 0.927646 \ttest Recall Score: 0.809817\ttest f1 Score: 0.867198\n",
            "Epoch: 2 \tTraining Loss: 19.662293 \tValidation Loss: 21.277227 \n",
            "train Accuracy score : 0.794684 \ttrain Precision Score: 0.928228 \ttrain Recall Score: 0.849795\ttrain f1 Score: 0.885434\n",
            "test Accuracy score : 0.759184 \ttest Precision Score: 0.928570 \ttest Recall Score: 0.810435\ttest f1 Score: 0.867492\n",
            "test recall increased (0.809982 --> 0.810435).  Saving model ...\n",
            "\n",
            "\n",
            "Epoch: 3 \tTraining Loss: 19.691230 \tValidation Loss: 21.277226 \n",
            "train Accuracy score : 0.798276 \ttrain Precision Score: 0.928763 \ttrain Recall Score: 0.853749\ttrain f1 Score: 0.887813\n",
            "test Accuracy score : 0.758844 \ttest Precision Score: 0.924307 \ttest Recall Score: 0.805459\ttest f1 Score: 0.863881\n",
            "Epoch: 4 \tTraining Loss: 19.708146 \tValidation Loss: 21.277228 \n",
            "train Accuracy score : 0.795833 \ttrain Precision Score: 0.928496 \ttrain Recall Score: 0.851570\ttrain f1 Score: 0.886546\n",
            "test Accuracy score : 0.759184 \ttest Precision Score: 0.928777 \ttest Recall Score: 0.810955\ttest f1 Score: 0.867782\n",
            "test recall increased (0.810435 --> 0.810955).  Saving model ...\n",
            "\n",
            "\n",
            "Epoch: 5 \tTraining Loss: 19.598617 \tValidation Loss: 21.277228 \n",
            "train Accuracy score : 0.793534 \ttrain Precision Score: 0.928409 \ttrain Recall Score: 0.848761\ttrain f1 Score: 0.885188\n",
            "test Accuracy score : 0.760884 \ttest Precision Score: 0.927228 \ttest Recall Score: 0.809812\ttest f1 Score: 0.866401\n",
            "Epoch: 6 \tTraining Loss: 19.531449 \tValidation Loss: 21.277227 \n",
            "train Accuracy score : 0.794828 \ttrain Precision Score: 0.929632 \ttrain Recall Score: 0.849319\ttrain f1 Score: 0.885614\n",
            "test Accuracy score : 0.758844 \ttest Precision Score: 0.930826 \ttest Recall Score: 0.809218\ttest f1 Score: 0.866119\n",
            "Epoch: 7 \tTraining Loss: 19.628142 \tValidation Loss: 21.277227 \n",
            "train Accuracy score : 0.794109 \ttrain Precision Score: 0.929277 \ttrain Recall Score: 0.849365\ttrain f1 Score: 0.885762\n",
            "test Accuracy score : 0.759864 \ttest Precision Score: 0.928509 \ttest Recall Score: 0.810728\ttest f1 Score: 0.868152\n",
            "Epoch: 8 \tTraining Loss: 19.648870 \tValidation Loss: 21.277228 \n",
            "train Accuracy score : 0.793678 \ttrain Precision Score: 0.930332 \ttrain Recall Score: 0.848687\ttrain f1 Score: 0.885484\n",
            "test Accuracy score : 0.760544 \ttest Precision Score: 0.926507 \ttest Recall Score: 0.808992\ttest f1 Score: 0.866183\n",
            "Epoch: 9 \tTraining Loss: 19.442425 \tValidation Loss: 21.277227 \n",
            "train Accuracy score : 0.793678 \ttrain Precision Score: 0.930572 \ttrain Recall Score: 0.847785\ttrain f1 Score: 0.885186\n",
            "test Accuracy score : 0.760884 \ttest Precision Score: 0.928602 \ttest Recall Score: 0.812131\ttest f1 Score: 0.868371\n",
            "test recall increased (0.810955 --> 0.812131).  Saving model ...\n",
            "\n",
            "\n"
          ],
          "name": "stdout"
        }
      ]
    },
    {
      "cell_type": "markdown",
      "metadata": {
        "id": "5Pndmtu1bxsd",
        "colab_type": "text"
      },
      "source": [
        "#### MSE_loss"
      ]
    },
    {
      "cell_type": "code",
      "metadata": {
        "id": "MI7X_bjSqHGL",
        "colab_type": "code",
        "outputId": "9d25f01b-990f-419f-fe9b-a035770cce7c",
        "colab": {
          "base_uri": "https://localhost:8080/",
          "height": 641
        }
      },
      "source": [
        "epochs_rang = range(10)\n",
        "MSE_trainloss = _1_hidtrain.train_loss\n",
        "MSE_testloss  = _1_hidtrain.test_loss\n",
        "\n",
        "plot4(MSE_trainloss, MSE_testloss, epochs_rang, 'test','train','epochs','MSE_loss','MSE_Loss','model1_MSE_LOSS')"
      ],
      "execution_count": 332,
      "outputs": [
        {
          "output_type": "display_data",
          "data": {
            "image/png": "[encoded data removed]",
            "text/plain": [
              "<Figure size 720x720 with 1 Axes>"
            ]
          },
          "metadata": {
            "tags": []
          }
        }
      ]
    },
    {
      "cell_type": "markdown",
      "metadata": {
        "id": "6DMjBI7Tb1i9",
        "colab_type": "text"
      },
      "source": [
        "#### Convergence rate"
      ]
    },
    {
      "cell_type": "code",
      "metadata": {
        "id": "mZTncgOStHQb",
        "colab_type": "code",
        "colab": {
          "base_uri": "https://localhost:8080/",
          "height": 136
        },
        "outputId": "8f0e3c87-0338-4c5a-a769-e6bc09bca110"
      },
      "source": [
        "_1_hidtrain.predict(train)"
      ],
      "execution_count": 333,
      "outputs": [
        {
          "output_type": "execute_result",
          "data": {
            "text/plain": [
              "tensor([[0],\n",
              "        [1],\n",
              "        [1],\n",
              "        ...,\n",
              "        [1],\n",
              "        [1],\n",
              "        [1]])"
            ]
          },
          "metadata": {
            "tags": []
          },
          "execution_count": 333
        }
      ]
    },
    {
      "cell_type": "code",
      "metadata": {
        "id": "czfq798AyqZh",
        "colab_type": "code",
        "colab": {}
      },
      "source": [
        "#_1_hidtrain.test_acc"
      ],
      "execution_count": 0,
      "outputs": []
    },
    {
      "cell_type": "code",
      "metadata": {
        "id": "Etfvs2SJP0IU",
        "colab_type": "code",
        "outputId": "79e33054-3221-4457-b85a-d728f0d95013",
        "colab": {
          "base_uri": "https://localhost:8080/",
          "height": 641
        }
      },
      "source": [
        "#epochs_rang = range(500)\n",
        "acc_train = _1_hidtrain.train_acc\n",
        "acc_test  = _1_hidtrain.test_acc\n",
        "\n",
        "plot4(acc_train, acc_test, epochs_rang, 'train', 'test','epochs','Accuracy','Convergence Rate','model1_COVERGENCE_RATE')"
      ],
      "execution_count": 335,
      "outputs": [
        {
          "output_type": "display_data",
          "data": {
            "image/png": "[encoded data removed]",
            "text/plain": [
              "<Figure size 720x720 with 1 Axes>"
            ]
          },
          "metadata": {
            "tags": []
          }
        }
      ]
    },
    {
      "cell_type": "code",
      "metadata": {
        "id": "W9z21eTiANBv",
        "colab_type": "code",
        "colab": {}
      },
      "source": [
        ""
      ],
      "execution_count": 0,
      "outputs": []
    },
    {
      "cell_type": "markdown",
      "metadata": {
        "id": "-gzVj_eBb4L9",
        "colab_type": "text"
      },
      "source": [
        "#### F1 score graph"
      ]
    },
    {
      "cell_type": "code",
      "metadata": {
        "id": "FNs1yisaAM_M",
        "colab_type": "code",
        "outputId": "891c0320-0df4-4d9e-e23e-c7f3543bcc01",
        "colab": {
          "base_uri": "https://localhost:8080/",
          "height": 641
        }
      },
      "source": [
        "#epochs_rang = range(500)\n",
        "f1_train = _1_hidtrain.train_f1_scr\n",
        "f1_test  = _1_hidtrain.test_f1_scr\n",
        "\n",
        "plot4(f1_train, f1_test, epochs_rang, 'train', 'test','epochs','f1_score','f1_score graph','model1_F1_SCORE_GRAPH')"
      ],
      "execution_count": 336,
      "outputs": [
        {
          "output_type": "display_data",
          "data": {
            "image/png": "[encoded data removed]",
            "text/plain": [
              "<Figure size 720x720 with 1 Axes>"
            ]
          },
          "metadata": {
            "tags": []
          }
        }
      ]
    },
    {
      "cell_type": "code",
      "metadata": {
        "id": "lbBN_WZyAM8e",
        "colab_type": "code",
        "colab": {}
      },
      "source": [
        ""
      ],
      "execution_count": 0,
      "outputs": []
    },
    {
      "cell_type": "markdown",
      "metadata": {
        "id": "MtCuYXkeb7QL",
        "colab_type": "text"
      },
      "source": [
        "#### ROC Curve"
      ]
    },
    {
      "cell_type": "code",
      "metadata": {
        "id": "9ezXWdGRb_Ov",
        "colab_type": "code",
        "outputId": "1d3b9b2e-8a68-4e36-b411-8b66c96e5814",
        "colab": {
          "base_uri": "https://localhost:8080/",
          "height": 638
        }
      },
      "source": [
        "_1_hidtrain.model.cpu().eval()\n",
        "output = _1_hidtrain.model(val).cpu().topk(1)[1]\n",
        "out_scr = _1_hidtrain.model(val).cpu()[:,1].detach().numpy()\n",
        "\n",
        "tpr, fpr, thres = roc_curve(val_target,out_scr)\n",
        "\n",
        "plot2(fpr,tpr,xlab='fpr', ylab='tpr',filename='model1_ROC_CURVE')"
      ],
      "execution_count": 337,
      "outputs": [
        {
          "output_type": "display_data",
          "data": {
            "image/png": "[encoded data removed]",
            "text/plain": [
              "<Figure size 720x720 with 1 Axes>"
            ]
          },
          "metadata": {
            "tags": []
          }
        }
      ]
    },
    {
      "cell_type": "code",
      "metadata": {
        "id": "u-a3b97SAMzK",
        "colab_type": "code",
        "outputId": "e4ea0a54-c1f5-48d7-faf5-78ea54c33ce9",
        "colab": {
          "base_uri": "https://localhost:8080/",
          "height": 34
        }
      },
      "source": [
        "roc_auc_score(val_target,out_scr)"
      ],
      "execution_count": 338,
      "outputs": [
        {
          "output_type": "execute_result",
          "data": {
            "text/plain": [
              "0.49520000000000003"
            ]
          },
          "metadata": {
            "tags": []
          },
          "execution_count": 338
        }
      ]
    },
    {
      "cell_type": "markdown",
      "metadata": {
        "id": "Mzb9iYCKfYGW",
        "colab_type": "text"
      },
      "source": [
        "#### Confusion matrix"
      ]
    },
    {
      "cell_type": "code",
      "metadata": {
        "id": "4mTu2tQ8AMv8",
        "colab_type": "code",
        "outputId": "02f88055-7d80-4a1b-f04d-42dd8a997ae7",
        "colab": {
          "base_uri": "https://localhost:8080/",
          "height": 279
        }
      },
      "source": [
        "c_m = confusion_matrix(output, val_target)\n",
        "\n",
        "sns.set(font_scale=1.4)#for label size\n",
        "sns.heatmap(c_m, annot=True,annot_kws={\"size\": 16})\n",
        "plt.savefig(img_fold+'model1_CONFUSION_METRIC')\n"
      ],
      "execution_count": 339,
      "outputs": [
        {
          "output_type": "display_data",
          "data": {
            "image/png": "[encoded data removed]",
            "text/plain": [
              "<Figure size 432x288 with 2 Axes>"
            ]
          },
          "metadata": {
            "tags": []
          }
        }
      ]
    },
    {
      "cell_type": "markdown",
      "metadata": {
        "id": "FuzooVZ6m26_",
        "colab_type": "text"
      },
      "source": [
        "#### Accuracy score on validation"
      ]
    },
    {
      "cell_type": "code",
      "metadata": {
        "id": "VyDY8oHwm2Ve",
        "colab_type": "code",
        "outputId": "01c938f3-c6b8-466a-fe12-f546ff5f72d8",
        "colab": {
          "base_uri": "https://localhost:8080/",
          "height": 34
        }
      },
      "source": [
        "acc_scor = accuracy_score(output, val_target)\n",
        "acc_scor"
      ],
      "execution_count": 340,
      "outputs": [
        {
          "output_type": "execute_result",
          "data": {
            "text/plain": [
              "0.5"
            ]
          },
          "metadata": {
            "tags": []
          },
          "execution_count": 340
        }
      ]
    },
    {
      "cell_type": "markdown",
      "metadata": {
        "id": "qLtj5MiUmefF",
        "colab_type": "text"
      },
      "source": [
        "#### recall"
      ]
    },
    {
      "cell_type": "code",
      "metadata": {
        "id": "i0wycePpmj_D",
        "colab_type": "code",
        "colab": {
          "base_uri": "https://localhost:8080/",
          "height": 34
        },
        "outputId": "64749e08-f362-4b05-a548-140cfd69f23f"
      },
      "source": [
        "recall = recall_score(output,val_target)\n",
        "recall"
      ],
      "execution_count": 341,
      "outputs": [
        {
          "output_type": "execute_result",
          "data": {
            "text/plain": [
              "0.5"
            ]
          },
          "metadata": {
            "tags": []
          },
          "execution_count": 341
        }
      ]
    },
    {
      "cell_type": "markdown",
      "metadata": {
        "id": "F-8Q3bsbmoV6",
        "colab_type": "text"
      },
      "source": [
        "#### f1_score"
      ]
    },
    {
      "cell_type": "code",
      "metadata": {
        "id": "RSB-ku94mr4h",
        "colab_type": "code",
        "colab": {
          "base_uri": "https://localhost:8080/",
          "height": 34
        },
        "outputId": "d13e51a0-0a55-4511-8932-b4d116f1ff8b"
      },
      "source": [
        "f1_scr = f1_score(output,val_target)\n",
        "f1_scr"
      ],
      "execution_count": 342,
      "outputs": [
        {
          "output_type": "execute_result",
          "data": {
            "text/plain": [
              "0.6453900709219857"
            ]
          },
          "metadata": {
            "tags": []
          },
          "execution_count": 342
        }
      ]
    },
    {
      "cell_type": "code",
      "metadata": {
        "id": "ug5hcNyxq5Wn",
        "colab_type": "code",
        "colab": {}
      },
      "source": [
        "#CUDA_LAUNCH_BLOCKING=1"
      ],
      "execution_count": 0,
      "outputs": []
    },
    {
      "cell_type": "markdown",
      "metadata": {
        "id": "SLtejGr_9Axg",
        "colab_type": "text"
      },
      "source": [
        "### Train model 2"
      ]
    },
    {
      "cell_type": "markdown",
      "metadata": {
        "id": "d1s7NKeQxNvC",
        "colab_type": "text"
      },
      "source": [
        "##### create model"
      ]
    },
    {
      "cell_type": "code",
      "metadata": {
        "id": "sRt3_PROxM71",
        "colab_type": "code",
        "colab": {}
      },
      "source": [
        "from sklearn.linear_model import LogisticRegression\n",
        "\n",
        "log_reg = LogisticRegression()"
      ],
      "execution_count": 0,
      "outputs": []
    },
    {
      "cell_type": "code",
      "metadata": {
        "id": "zxQTPZiC3s_P",
        "colab_type": "code",
        "colab": {
          "base_uri": "https://localhost:8080/",
          "height": 122
        },
        "outputId": "f2dc2e17-8611-4ecc-81f1-ac46976d7444"
      },
      "source": [
        "log_reg.fit(X_train,y_train)\n",
        "predict = log_reg.predict(X_val)\n",
        "\n",
        "print(f1_score(predict,y_val))"
      ],
      "execution_count": 368,
      "outputs": [
        {
          "output_type": "stream",
          "text": [
            "0.6666666666666666\n"
          ],
          "name": "stdout"
        },
        {
          "output_type": "stream",
          "text": [
            "/usr/local/lib/python3.6/dist-packages/sklearn/linear_model/logistic.py:432: FutureWarning: Default solver will be changed to 'lbfgs' in 0.22. Specify a solver to silence this warning.\n",
            "  FutureWarning)\n",
            "/usr/local/lib/python3.6/dist-packages/sklearn/utils/validation.py:724: DataConversionWarning: A column-vector y was passed when a 1d array was expected. Please change the shape of y to (n_samples, ), for example using ravel().\n",
            "  y = column_or_1d(y, warn=True)\n"
          ],
          "name": "stderr"
        }
      ]
    },
    {
      "cell_type": "markdown",
      "metadata": {
        "id": "QbxqJKdBsSGs",
        "colab_type": "text"
      },
      "source": [
        "#### Confusion matrix"
      ]
    },
    {
      "cell_type": "code",
      "metadata": {
        "id": "sxmO5UZIqp69",
        "colab_type": "code",
        "colab": {
          "base_uri": "https://localhost:8080/",
          "height": 279
        },
        "outputId": "b641d3af-00dd-4135-9060-0bc055294b91"
      },
      "source": [
        "c_m = confusion_matrix(predict, y_val)\n",
        "\n",
        "sns.set(font_scale=1.4)#for label size\n",
        "sns.heatmap(c_m, annot=True,annot_kws={\"size\": 16})\n",
        "plt.savefig(img_fold+'model2_CONFUSION_METRIC')\n"
      ],
      "execution_count": 369,
      "outputs": [
        {
          "output_type": "display_data",
          "data": {
            "image/png": "[encoded data removed]",
            "text/plain": [
              "<Figure size 432x288 with 2 Axes>"
            ]
          },
          "metadata": {
            "tags": []
          }
        }
      ]
    },
    {
      "cell_type": "markdown",
      "metadata": {
        "id": "3B16BndzsgYV",
        "colab_type": "text"
      },
      "source": [
        "#### Accuracy score on validation"
      ]
    },
    {
      "cell_type": "code",
      "metadata": {
        "id": "wkyzH2ajsfvk",
        "colab_type": "code",
        "colab": {
          "base_uri": "https://localhost:8080/",
          "height": 34
        },
        "outputId": "8d878de1-df26-4ac4-ff83-262e8f223bc1"
      },
      "source": [
        "acc_scor = accuracy_score(predict, y_val)\n",
        "acc_scor"
      ],
      "execution_count": 370,
      "outputs": [
        {
          "output_type": "execute_result",
          "data": {
            "text/plain": [
              "0.5"
            ]
          },
          "metadata": {
            "tags": []
          },
          "execution_count": 370
        }
      ]
    },
    {
      "cell_type": "markdown",
      "metadata": {
        "id": "vPwN7rs59kWb",
        "colab_type": "text"
      },
      "source": [
        "### F1-score"
      ]
    },
    {
      "cell_type": "code",
      "metadata": {
        "id": "_gJrBO8U9jM0",
        "colab_type": "code",
        "colab": {
          "base_uri": "https://localhost:8080/",
          "height": 34
        },
        "outputId": "91c5424a-e668-43a4-ff6e-1196442fbd15"
      },
      "source": [
        "f1_scr = f1_score(predict, y_val)\n",
        "f1_scr"
      ],
      "execution_count": 371,
      "outputs": [
        {
          "output_type": "execute_result",
          "data": {
            "text/plain": [
              "0.6666666666666666"
            ]
          },
          "metadata": {
            "tags": []
          },
          "execution_count": 371
        }
      ]
    },
    {
      "cell_type": "markdown",
      "metadata": {
        "id": "xuRnoRpM9ExI",
        "colab_type": "text"
      },
      "source": [
        "### Train model 3"
      ]
    },
    {
      "cell_type": "code",
      "metadata": {
        "id": "Q71Ea3U73urG",
        "colab_type": "code",
        "colab": {}
      },
      "source": [
        "from sklearn.tree import DecisionTreeClassifier\n",
        "\n",
        "dec_tr = DecisionTreeClassifier()\n",
        "dec_tr.fit(X_train,y_train)\n",
        "predict = dec_tr.predict(X_val)"
      ],
      "execution_count": 0,
      "outputs": []
    },
    {
      "cell_type": "markdown",
      "metadata": {
        "id": "5c_Z8cdysZU-",
        "colab_type": "text"
      },
      "source": [
        "#### Confusion matrix"
      ]
    },
    {
      "cell_type": "code",
      "metadata": {
        "id": "AzFyLHYRsGog",
        "colab_type": "code",
        "colab": {
          "base_uri": "https://localhost:8080/",
          "height": 279
        },
        "outputId": "e3566551-3e72-4193-d6f1-8fb134ab6d4e"
      },
      "source": [
        "c_m = confusion_matrix(predict, y_val)\n",
        "\n",
        "sns.set(font_scale=1.4)#for label size\n",
        "sns.heatmap(c_m, annot=True,annot_kws={\"size\": 16})\n",
        "plt.savefig(img_fold+'model3_CONFUSION_METRIC')"
      ],
      "execution_count": 364,
      "outputs": [
        {
          "output_type": "display_data",
          "data": {
            "image/png": "[encoded data removed]",
            "text/plain": [
              "<Figure size 432x288 with 2 Axes>"
            ]
          },
          "metadata": {
            "tags": []
          }
        }
      ]
    },
    {
      "cell_type": "markdown",
      "metadata": {
        "id": "5PB1RXhpsh6v",
        "colab_type": "text"
      },
      "source": [
        "#### Accuracy score on validation"
      ]
    },
    {
      "cell_type": "code",
      "metadata": {
        "id": "8IPymHvZsGl6",
        "colab_type": "code",
        "colab": {
          "base_uri": "https://localhost:8080/",
          "height": 34
        },
        "outputId": "a5beb873-4e9c-4549-f6f9-2a227fabacc6"
      },
      "source": [
        "acc_scor = accuracy_score(predict, y_val)\n",
        "acc_scor"
      ],
      "execution_count": 365,
      "outputs": [
        {
          "output_type": "execute_result",
          "data": {
            "text/plain": [
              "0.46"
            ]
          },
          "metadata": {
            "tags": []
          },
          "execution_count": 365
        }
      ]
    },
    {
      "cell_type": "markdown",
      "metadata": {
        "id": "mMCCG-uy9STg",
        "colab_type": "text"
      },
      "source": [
        "### F1_score"
      ]
    },
    {
      "cell_type": "code",
      "metadata": {
        "id": "2mL1j3x29UNJ",
        "colab_type": "code",
        "colab": {
          "base_uri": "https://localhost:8080/",
          "height": 34
        },
        "outputId": "96db8216-982c-4e08-bd25-9e442e041f8c"
      },
      "source": [
        "f1_scr = f1_score(predict, y_val)\n",
        "f1_scr"
      ],
      "execution_count": 366,
      "outputs": [
        {
          "output_type": "execute_result",
          "data": {
            "text/plain": [
              "0.46"
            ]
          },
          "metadata": {
            "tags": []
          },
          "execution_count": 366
        }
      ]
    },
    {
      "cell_type": "markdown",
      "metadata": {
        "id": "g6ogdlu78CxN",
        "colab_type": "text"
      },
      "source": [
        "# Conclusion ----> During Processing It was Noticed that the data were not Properly Arranged and Code to rearrange it was written in the Data_processing notebook, While in this current notebook(model training notebook) , it was discovered that the data had not linear, corrolation, so the neural network did a good Job during trainng and prediction"
      ]
    },
    {
      "cell_type": "markdown",
      "metadata": {
        "id": "Vgb9-NMZ8GWn",
        "colab_type": "text"
      },
      "source": [
        ""
      ]
    }
  ]
}